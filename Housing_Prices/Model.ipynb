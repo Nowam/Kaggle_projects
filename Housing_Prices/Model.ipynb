{
 "cells": [
  {
   "cell_type": "code",
   "execution_count": 135,
   "metadata": {},
   "outputs": [],
   "source": [
    "import pandas as pd\n",
    "import numpy as np\n",
    "pd.set_option('display.max_columns', None)  # Not enough people know this exists\n",
    "import seaborn as sns\n",
    "import matplotlib.pyplot as plt\n",
    "%matplotlib inline\n",
    "from scipy.stats import pearsonr\n",
    "from scipy.stats import norm\n",
    "# Import ML\n",
    "from xgboost import XGBRegressor\n",
    "from sklearn import preprocessing, model_selection\n",
    "from sklearn.linear_model import LinearRegression, Ridge, RidgeCV, Lasso, LassoCV, ElasticNetCV, LarsCV, OrthogonalMatchingPursuitCV, BayesianRidge\n",
    "from sklearn.metrics import mean_squared_error, mean_squared_log_error\n",
    "from sklearn.svm import LinearSVR,SVR\n",
    "from sklearn.ensemble import RandomForestRegressor\n",
    "from sklearn.decomposition import PCA\n",
    "from sklearn.manifold import TSNE\n",
    "from sklearn.feature_selection import SelectKBest, chi2, SelectFromModel\n",
    "LabelEnc = preprocessing.LabelEncoder()\n",
    "OHE = preprocessing.OneHotEncoder()"
   ]
  },
  {
   "cell_type": "code",
   "execution_count": 2,
   "metadata": {},
   "outputs": [],
   "source": [
    "train_data = pd.read_csv(r'E:/Downloads/Housing/train.csv')\n",
    "test_data = pd.read_csv(r'E:/Downloads/Housing/test.csv')"
   ]
  },
  {
   "cell_type": "code",
   "execution_count": 113,
   "metadata": {},
   "outputs": [],
   "source": [
    "def outlier_and_nans(train):\n",
    "    \"\"\" Remove outliers and nans from training data\"\"\"\n",
    "    train = train.drop(index=train.GrLivArea.nlargest(2).index)\n",
    "    train = train.drop(index=train.SalePrice.nlargest(1).index)\n",
    "    train = train.dropna(subset=['MasVnrArea'])  # Around 8 examples\n",
    "    train = train.drop(index=train.GarageArea.nlargest(3).index)\n",
    "    return train"
   ]
  },
  {
   "cell_type": "code",
   "execution_count": 4,
   "metadata": {},
   "outputs": [],
   "source": [
    "def fill_nans(test):\n",
    "    test['MasVnrArea'].fillna(test['MasVnrArea'].mean(), inplace=True)\n",
    "    test['GarageArea'].fillna(test['GarageArea'].mean(), inplace=True)\n",
    "    test['TotalBsmtSF'].fillna(test['TotalBsmtSF'].mean(), inplace=True)"
   ]
  },
  {
   "cell_type": "code",
   "execution_count": 5,
   "metadata": {},
   "outputs": [],
   "source": [
    "def feature_extraction(data, dummies):\n",
    "    X = pd.DataFrame(index=data.index)\n",
    "    X['OverallQual'] = preprocessing.scale(data['OverallQual'])  # Maybe scale it later\n",
    "    X['GrLivArea'] = preprocessing.scale(np.log(data['GrLivArea']))\n",
    "    X['GarageArea'] = preprocessing.scale(data['GarageArea'].apply(lambda x: x if x == 0 else np.log(x)))\n",
    "    X['TotalBsmtSF'] = preprocessing.scale(data['TotalBsmtSF'].apply(lambda x: x if x == 0 else np.log(x)))\n",
    "    X['FullBaths'] = preprocessing.scale(data['FullBath'])  # Maybe scale it later\n",
    "    X['AgeWhenSold'] = preprocessing.scale(data['YrSold'] - data['YearBuilt'])\n",
    "    X['MasVnrArea'] = preprocessing.scale(data['MasVnrArea'].apply(lambda x: x if x == 0 else np.log(x)))\n",
    "    data['HasFirePlace'] = 0\n",
    "    data.loc[data['Fireplaces'] != 0,'HasFirePlace'] = 1\n",
    "    X['HasFirePlace'] = data['HasFirePlace']\n",
    "    X = pd.concat([X,pd.get_dummies(data[dummies])], axis=1)\n",
    "    return X"
   ]
  },
  {
   "cell_type": "code",
   "execution_count": 134,
   "metadata": {},
   "outputs": [],
   "source": [
    "def prepare_for_model(train, test, tag):\n",
    "    dummies = train.dtypes[train.dtypes == object].index\n",
    "    X_train = feature_extraction(train, dummies)\n",
    "    y_train = np.log(tag)\n",
    "    X_test = feature_extraction(test, dummies)\n",
    "    X_train = X_train[X_test.columns]\n",
    "    X_test = X_test[X_train.columns]\n",
    "    X_train, X_val, y_train, y_val = model_selection.train_test_split(X_train, y_train, test_size= 0.2)\n",
    "    return X_train, y_train, X_val, y_val, X_test\n",
    "    \n",
    "    "
   ]
  },
  {
   "cell_type": "code",
   "execution_count": 179,
   "metadata": {},
   "outputs": [],
   "source": [
    "def fit_predict(train, test, model):\n",
    "    X_train, y_train, X_val, y_val, X_test = prepare_for_model(train, test, train[\"SalePrice\"])\n",
    "    clf = LassoCV()\n",
    "    sfm = SelectFromModel(clf, threshold=None)\n",
    "    sfm.fit(X_train, y_train)\n",
    "    print(X_train.shape)\n",
    "    X_train = sfm.transform(X_train)\n",
    "    X_val = sfm.transform(X_val)\n",
    "    X_test = sfm.transform(X_test)\n",
    "    print(X_train.shape)\n",
    "    model.fit(X_train, y_train)\n",
    "    print(\"Train error: \",np.sqrt(mean_squared_log_error(np.exp(y_train),np.exp(model.predict(X_train)))))\n",
    "    print(\"Val error: \", np.sqrt(mean_squared_log_error(np.exp(y_val), np.exp(model.predict(X_val)))))\n",
    "    pred = np.exp(pd.Series(model.predict(X_test)))\n",
    "    pred.name = \"SalePrice\"\n",
    "    return model, pd.concat([test.Id,pred],axis = 1)"
   ]
  },
  {
   "cell_type": "code",
   "execution_count": 115,
   "metadata": {},
   "outputs": [
    {
     "name": "stdout",
     "output_type": "stream",
     "text": [
      "(1460, 81)\n",
      "(1446, 81)\n"
     ]
    }
   ],
   "source": [
    "print(train_data.shape)\n",
    "train_r = outlier_and_nans(train_data)\n",
    "print(train_r.shape)"
   ]
  },
  {
   "cell_type": "code",
   "execution_count": 12,
   "metadata": {},
   "outputs": [
    {
     "data": {
      "text/plain": [
       "Id                True\n",
       "MSSubClass        True\n",
       "MSZoning         False\n",
       "LotFrontage      False\n",
       "LotArea           True\n",
       "Street            True\n",
       "Alley            False\n",
       "LotShape          True\n",
       "LandContour       True\n",
       "Utilities        False\n",
       "LotConfig         True\n",
       "LandSlope         True\n",
       "Neighborhood      True\n",
       "Condition1        True\n",
       "Condition2        True\n",
       "BldgType          True\n",
       "HouseStyle        True\n",
       "OverallQual       True\n",
       "OverallCond       True\n",
       "YearBuilt         True\n",
       "YearRemodAdd      True\n",
       "RoofStyle         True\n",
       "RoofMatl          True\n",
       "Exterior1st      False\n",
       "Exterior2nd      False\n",
       "MasVnrType       False\n",
       "MasVnrArea        True\n",
       "ExterQual         True\n",
       "ExterCond         True\n",
       "Foundation        True\n",
       "                 ...  \n",
       "BedroomAbvGr      True\n",
       "KitchenAbvGr      True\n",
       "KitchenQual      False\n",
       "TotRmsAbvGrd      True\n",
       "Functional       False\n",
       "Fireplaces        True\n",
       "FireplaceQu      False\n",
       "GarageType       False\n",
       "GarageYrBlt      False\n",
       "GarageFinish     False\n",
       "GarageCars       False\n",
       "GarageArea        True\n",
       "GarageQual       False\n",
       "GarageCond       False\n",
       "PavedDrive        True\n",
       "WoodDeckSF        True\n",
       "OpenPorchSF       True\n",
       "EnclosedPorch     True\n",
       "3SsnPorch         True\n",
       "ScreenPorch       True\n",
       "PoolArea          True\n",
       "PoolQC           False\n",
       "Fence            False\n",
       "MiscFeature      False\n",
       "MiscVal           True\n",
       "MoSold            True\n",
       "YrSold            True\n",
       "SaleType         False\n",
       "SaleCondition     True\n",
       "HasFirePlace      True\n",
       "Length: 81, dtype: bool"
      ]
     },
     "execution_count": 12,
     "metadata": {},
     "output_type": "execute_result"
    }
   ],
   "source": [
    "fill_nans(test_data)"
   ]
  },
  {
   "cell_type": "code",
   "execution_count": 187,
   "metadata": {},
   "outputs": [
    {
     "name": "stderr",
     "output_type": "stream",
     "text": [
      "c:\\users\\noam\\appdata\\local\\programs\\python\\python37-32\\lib\\site-packages\\sklearn\\model_selection\\_split.py:1978: FutureWarning: The default value of cv will change from 3 to 5 in version 0.22. Specify it explicitly to silence this warning.\n",
      "  warnings.warn(CV_WARNING, FutureWarning)\n"
     ]
    },
    {
     "name": "stdout",
     "output_type": "stream",
     "text": [
      "(1156, 242)\n",
      "(1156, 107)\n",
      "[13:37:15] WARNING: d:\\build\\xgboost\\xgboost-0.90.git\\src\\objective\\regression_obj.cu:152: reg:linear is now deprecated in favor of reg:squarederror.\n"
     ]
    },
    {
     "name": "stderr",
     "output_type": "stream",
     "text": [
      "c:\\users\\noam\\appdata\\local\\programs\\python\\python37-32\\lib\\site-packages\\xgboost\\core.py:587: FutureWarning: Series.base is deprecated and will be removed in a future version\n",
      "  if getattr(data, 'base', None) is not None and \\\n"
     ]
    },
    {
     "name": "stdout",
     "output_type": "stream",
     "text": [
      "Train error:  0.09694422345826695\n",
      "Val error:  0.12482494234830396\n"
     ]
    },
    {
     "data": {
      "text/plain": [
       "array([0.06596678, 0.04621912, 0.05116463, 0.0401483 , 0.00615022,\n",
       "       0.04589282, 0.00320501, 0.10363725, 0.0105974 , 0.00245024,\n",
       "       0.03046652, 0.01934053, 0.00100326, 0.00296475, 0.01570544,\n",
       "       0.        , 0.0058313 , 0.00144469, 0.00301083, 0.0059507 ,\n",
       "       0.00239931, 0.00853954, 0.00426863, 0.00316815, 0.        ,\n",
       "       0.        , 0.        , 0.0113389 , 0.        , 0.        ,\n",
       "       0.00307487, 0.        , 0.00417096, 0.00282684, 0.00413714,\n",
       "       0.        , 0.01139193, 0.        , 0.00016679, 0.00358291,\n",
       "       0.00229227, 0.00375165, 0.00106623, 0.        , 0.        ,\n",
       "       0.00548465, 0.        , 0.00555285, 0.        , 0.00203011,\n",
       "       0.0017671 , 0.00151966, 0.        , 0.00327561, 0.00122846,\n",
       "       0.        , 0.00325109, 0.01160382, 0.        , 0.        ,\n",
       "       0.00841336, 0.        , 0.        , 0.00424213, 0.01541492,\n",
       "       0.        , 0.00432195, 0.        , 0.01430262, 0.00067784,\n",
       "       0.00662732, 0.00579173, 0.04525412, 0.        , 0.00093316,\n",
       "       0.01140753, 0.00291868, 0.00304475, 0.00038999, 0.        ,\n",
       "       0.01581197, 0.01298989, 0.00446761, 0.        , 0.00284995,\n",
       "       0.02918784, 0.05014825, 0.02636234, 0.0027301 , 0.00282514,\n",
       "       0.        , 0.00806069, 0.00133031, 0.00312372, 0.02057748,\n",
       "       0.        , 0.07445607, 0.00888413, 0.0109165 , 0.002324  ,\n",
       "       0.        , 0.        , 0.00821691, 0.00808244, 0.01063381,\n",
       "       0.00412176, 0.0051196 ], dtype=float32)"
      ]
     },
     "execution_count": 187,
     "metadata": {},
     "output_type": "execute_result"
    }
   ],
   "source": [
    "model = XGBRegressor()\n",
    "model_out, out = fit_predict(train_r ,test_data ,model)\n",
    "# out.to_csv(r'out.csv',index=False)\n",
    "model_out.feature_importances_"
   ]
  },
  {
   "cell_type": "code",
   "execution_count": 146,
   "metadata": {},
   "outputs": [
    {
     "ename": "TypeError",
     "evalue": "fit() missing 1 required positional argument: 'X'",
     "output_type": "error",
     "traceback": [
      "\u001b[1;31m---------------------------------------------------------------------------\u001b[0m",
      "\u001b[1;31mTypeError\u001b[0m                                 Traceback (most recent call last)",
      "\u001b[1;32m<ipython-input-146-91fd9dc290e0>\u001b[0m in \u001b[0;36m<module>\u001b[1;34m\u001b[0m\n\u001b[1;32m----> 1\u001b[1;33m \u001b[0mSelectFromModel\u001b[0m\u001b[1;33m(\u001b[0m\u001b[0mmodel_out\u001b[0m\u001b[1;33m)\u001b[0m\u001b[1;33m.\u001b[0m\u001b[0mfit\u001b[0m\u001b[1;33m(\u001b[0m\u001b[1;33m)\u001b[0m\u001b[1;33m\u001b[0m\u001b[0m\n\u001b[0m",
      "\u001b[1;31mTypeError\u001b[0m: fit() missing 1 required positional argument: 'X'"
     ]
    }
   ],
   "source": [
    "SelectFromModel(model_out).fit()"
   ]
  },
  {
   "cell_type": "code",
   "execution_count": 45,
   "metadata": {},
   "outputs": [
    {
     "ename": "NameError",
     "evalue": "name 'f' is not defined",
     "output_type": "error",
     "traceback": [
      "\u001b[1;31m---------------------------------------------------------------------------\u001b[0m",
      "\u001b[1;31mNameError\u001b[0m                                 Traceback (most recent call last)",
      "\u001b[1;32m<ipython-input-45-486e3fba0925>\u001b[0m in \u001b[0;36m<module>\u001b[1;34m\u001b[0m\n\u001b[1;32m----> 1\u001b[1;33m \u001b[0mk\u001b[0m \u001b[1;33m=\u001b[0m \u001b[0mSelectKBest\u001b[0m\u001b[1;33m(\u001b[0m\u001b[0mchi2\u001b[0m\u001b[1;33m,\u001b[0m \u001b[0mk\u001b[0m\u001b[1;33m=\u001b[0m\u001b[1;36m100\u001b[0m\u001b[1;33m)\u001b[0m\u001b[1;33m.\u001b[0m\u001b[0mfit\u001b[0m\u001b[1;33m(\u001b[0m\u001b[0mf\u001b[0m\u001b[1;33m,\u001b[0m \u001b[0mtrain_r\u001b[0m\u001b[1;33m[\u001b[0m\u001b[1;34m'SalePrice'\u001b[0m\u001b[1;33m]\u001b[0m\u001b[1;33m)\u001b[0m\u001b[1;33m\u001b[0m\u001b[0m\n\u001b[0m\u001b[0;32m      2\u001b[0m \u001b[0mr\u001b[0m \u001b[1;33m=\u001b[0m \u001b[0mf\u001b[0m\u001b[1;33m.\u001b[0m\u001b[0miloc\u001b[0m\u001b[1;33m[\u001b[0m\u001b[1;33m:\u001b[0m\u001b[1;33m,\u001b[0m\u001b[0mk\u001b[0m\u001b[1;33m.\u001b[0m\u001b[0mget_support\u001b[0m\u001b[1;33m(\u001b[0m\u001b[0mindices\u001b[0m\u001b[1;33m=\u001b[0m\u001b[1;32mTrue\u001b[0m\u001b[1;33m)\u001b[0m\u001b[1;33m]\u001b[0m\u001b[1;33m.\u001b[0m\u001b[0mcolumns\u001b[0m\u001b[1;33m\u001b[0m\u001b[0m\n",
      "\u001b[1;31mNameError\u001b[0m: name 'f' is not defined"
     ]
    }
   ],
   "source": [
    "k = SelectKBest(chi2, k=100).fit(f, train_r['SalePrice'])\n",
    "r = f.iloc[:,k.get_support(indices=True)].columns"
   ]
  },
  {
   "cell_type": "code",
   "execution_count": 42,
   "metadata": {},
   "outputs": [
    {
     "name": "stdout",
     "output_type": "stream",
     "text": [
      "2.5\n",
      "Train error:  0.10597404986833515\n",
      "Val error:  0.11094186065552247\n",
      "3\n",
      "Train error:  0.10504164728576822\n",
      "Val error:  0.11725435799410161\n",
      "3.5\n",
      "Train error:  0.10160362825949235\n",
      "Val error:  0.13149421226599114\n"
     ]
    }
   ],
   "source": [
    "for i in [2.5,3,3.5]:\n",
    "    print(i)\n",
    "    fit_predict(train_r, test_data, Ridge(alpha=i))"
   ]
  },
  {
   "cell_type": "code",
   "execution_count": 112,
   "metadata": {},
   "outputs": [
    {
     "data": {
      "text/plain": [
       "<matplotlib.axes._subplots.AxesSubplot at 0x1ed15cf0>"
      ]
     },
     "execution_count": 112,
     "metadata": {},
     "output_type": "execute_result"
    },
    {
     "data": {
      "image/png": "[encoded data removed]",
      "text/plain": [
       "<Figure size 432x288 with 1 Axes>"
      ]
     },
     "metadata": {
      "needs_background": "light"
     },
     "output_type": "display_data"
    }
   ],
   "source": [
    "sns.scatterplot(x=train_r['GarageArea'], y=train_r['SalePrice'])"
   ]
  },
  {
   "cell_type": "code",
   "execution_count": null,
   "metadata": {},
   "outputs": [],
   "source": []
  }
 ],
 "metadata": {
  "kernelspec": {
   "display_name": "Python 3",
   "language": "python",
   "name": "python3"
  },
  "language_info": {
   "codemirror_mode": {
    "name": "ipython",
    "version": 3
   },
   "file_extension": ".py",
   "mimetype": "text/x-python",
   "name": "python",
   "nbconvert_exporter": "python",
   "pygments_lexer": "ipython3",
   "version": "3.7.0"
  }
 },
 "nbformat": 4,
 "nbformat_minor": 2
}
